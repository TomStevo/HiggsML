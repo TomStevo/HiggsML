{
 "cells": [
  {
   "cell_type": "markdown",
   "metadata": {},
   "source": [
    "# Higgs Machine Learning Challenge Example\n",
    "\n",
    "This is an example solution to the Kaggle Higgs Machine learning challenge (https://www.kaggle.com/c/higgs-boson).\n",
    "\n",
    "This script should serve as a starting point for learning how to get the data into some format appropriate for training a model on it. This example uses the popular Python packages Numpy and Pandas which should make your life easier. It also shows basic plotting with matplotlib and a machine learning model built using scikit-learn.\n",
    "\n",
    "https://numpy.org/\n",
    "\n",
    "https://pandas.pydata.org/\n",
    "\n",
    "https://scikit-learn.org/stable/"
   ]
  },
  {
   "cell_type": "markdown",
   "metadata": {},
   "source": [
    "First we will import the modules we are going to use, including code from the files Plotting and Tools found in the same directory as this file."
   ]
  },
  {
   "cell_type": "code",
   "execution_count": null,
   "metadata": {},
   "outputs": [],
   "source": [
    "import pandas as pd\n",
    "import numpy as np\n",
    "%matplotlib notebook\n",
    "import matplotlib.pyplot as plt\n",
    "from sklearn.ensemble import AdaBoostClassifier\n",
    "from sklearn import tree\n",
    "from sklearn.utils import shuffle\n",
    "from sklearn.metrics import accuracy_score\n",
    "import Plotting\n",
    "import Tools\n",
    "from joblib import dump, load"
   ]
  },
  {
   "cell_type": "markdown",
   "metadata": {},
   "source": [
    "We will define a few functions to help us out later on."
   ]
  },
  {
   "cell_type": "code",
   "execution_count": null,
   "metadata": {},
   "outputs": [],
   "source": [
    "def drop_neg(value):\n",
    "    return value == -999.0\n",
    "\n",
    "def get_class(value,cls):\n",
    "    return value != cls"
   ]
  },
  {
   "cell_type": "markdown",
   "metadata": {},
   "source": [
    "Below is a function for training the model. \n",
    "\n",
    "First the data is read in using pandas built in csv reader. A filter is applied to select only certain features from the data and then the data is sorted into signal and background classes bassed on the values in the Label collumn. You should repurpose this code to help you wrangle the data into your own models.\n",
    "\n",
    "This particular model is a DecisionTreeClassifier from scikit-learn bossted by an algorithm called AdaBoost (https://en.wikipedia.org/wiki/AdaBoost). We set some of the parameters for the classifier and the boosting algorithm but to see the full suite of options you should check the scikit-learn documentation.\n",
    "\n",
    "We also call a function from the Tools file that will train the model. You can adapt this function for your own use.\n",
    "\n",
    "Next a function from Plotting is called which uses matplotlib (https://matplotlib.org/) to plot the output score of model for the background and signal events respectively. Later on when we call the train function we will look at this plot in more detail.\n",
    "\n",
    "Finally a call to the function dump is made. This function is from the library joblib (https://joblib.readthedocs.io/en/latest/) and will save our model to the file \"example_sol.joblib\"."
   ]
  },
  {
   "cell_type": "code",
   "execution_count": null,
   "metadata": {},
   "outputs": [],
   "source": [
    "def train():\n",
    "    df = pd.read_csv(\"train.csv\")\n",
    "\n",
    "    df = df.filter(regex='DER_mass_MMC|DER_mass_transverse_met_lep|DER_pt_h|DER_deltar_tau_lep|DER_mass_vis|Label|Weight')\n",
    "\n",
    "    sig = df.drop( df[ np.vectorize(get_class,excluded=['cls'])(value=df.Label,cls=\"s\") ].index ).drop('Label',axis=1)\n",
    "    bkg = df.drop( df[ np.vectorize(get_class,excluded=['cls'])(value=df.Label,cls=\"b\") ].index ).drop('Label',axis=1)\n",
    "\n",
    "    sig_weights = sig.Weight.values\n",
    "    bkg_weights = bkg.Weight.values\n",
    "\n",
    "    sig = sig.drop('Weight',axis=1)\n",
    "    bkg = bkg.drop('Weight',axis=1)\n",
    "\n",
    "    clf = AdaBoostClassifier(tree.DecisionTreeClassifier(max_depth=4),\n",
    "                             algorithm=\"SAMME\",\n",
    "                             n_estimators=200)\n",
    "\n",
    "\n",
    "    Tools.train_mva(clf,sig,bkg,sig_weights,bkg_weights)\n",
    "\n",
    "    Plotting.plot_output(clf,sig,bkg)\n",
    "\n",
    "    dump(clf, \"example_sol.joblib\")"
   ]
  },
  {
   "cell_type": "markdown",
   "metadata": {},
   "source": [
    "Below is a function that tests our model.\n",
    "\n",
    "First we read in the validation data and filter the same columns as before, except this time we don't have labels to load.\n",
    "\n",
    "Then we use joblib's load function to load the model we saved earlier. It is very useful to be able to save your trained models to use later, that way you're not forced to use the model whilst it's still in memory.\n",
    "\n",
    "The loaded classifier is then used to predict the labels of the validation sample. Those labels are stored into the array in the Label columm.\n",
    "\n",
    "We sort the values in the array by the value of the decision function.\n",
    "\n",
    "Lastly a simple for loop demonstrates how to present your models predictions so that we can properly evaluate how well your model performs in the challenge using the AMS score. Please ensure that whatever code you write outputs its submission files to the same specification as this for loop."
   ]
  },
  {
   "cell_type": "code",
   "execution_count": null,
   "metadata": {},
   "outputs": [],
   "source": [
    "def test():\n",
    "    val = pd.read_csv(\"validation.csv\")\n",
    "    val = val.filter(regex='EventId|DER_mass_MMC|DER_mass_transverse_met_lep|DER_pt_h|DER_deltar_tau_lep|DER_mass_vis')\n",
    "\n",
    "    clf = load(\"example_sol.joblib\")\n",
    "\n",
    "    eva = val.drop('EventId',axis=1)\n",
    "\n",
    "    val['Label'] = clf.predict(eva.values)\n",
    "    val['DF'] = clf.decision_function(eva.values)\n",
    "\n",
    "    val = val.sort_values(by='DF',ascending=False).reset_index(drop=True)\n",
    "\n",
    "    with open('validation_submission.csv','w') as f:\n",
    "        f.write('EventId,RankOrder,Class\\n')\n",
    "        for index, row in val.iterrows():\n",
    "            cls = 's' if row.Label == 1.0 else 'b'\n",
    "            f.write(str(int(row.EventId)))\n",
    "            f.write(',')\n",
    "            f.write(str(index+1))\n",
    "            f.write(',')\n",
    "            f.write(cls)\n",
    "            f.write('\\n')\n",
    "        f.close()"
   ]
  },
  {
   "cell_type": "markdown",
   "metadata": {},
   "source": [
    "Let's run the train function and see what happens..."
   ]
  },
  {
   "cell_type": "code",
   "execution_count": null,
   "metadata": {},
   "outputs": [],
   "source": [
    "train()"
   ]
  },
  {
   "cell_type": "markdown",
   "metadata": {},
   "source": [
    "... that probably took a little while but hopefully not too long. Part of the challenge of building a machine learning model is designing something that will we give you results in a suitable timeframe. The timeframe for this challenge is to submit your solutions by 15:30 so you should bear this in mind when it comes to the complexity of your model. \n",
    "\n",
    "And look! Our plot appeared (hopefully!)\n",
    "\n",
    "What can you learn from this plot. How are the signal and background events distributed as a function of the model score?\n",
    "\n",
    "What would the output of a better model look like? And a worse one?\n",
    "\n",
    "Next lets run the test function and produce the submission file."
   ]
  },
  {
   "cell_type": "code",
   "execution_count": null,
   "metadata": {},
   "outputs": [],
   "source": [
    "test()"
   ]
  },
  {
   "cell_type": "markdown",
   "metadata": {},
   "source": [
    "You should be able to see the submission file in the same directory as this file. Take a look inside and make sure you understand the submission format so that you can correctly submit your solution later on!\n",
    "\n",
    "Now it's time for you to start building your own model. Feel to use any code from this example to help you get started but also check the materials provided for more ideas.\n",
    "\n",
    "Good luck! •ᴗ•"
   ]
  }
 ],
 "metadata": {
  "kernelspec": {
   "display_name": "Python 3",
   "language": "python",
   "name": "python3"
  },
  "language_info": {
   "codemirror_mode": {
    "name": "ipython",
    "version": 3
   },
   "file_extension": ".py",
   "mimetype": "text/x-python",
   "name": "python",
   "nbconvert_exporter": "python",
   "pygments_lexer": "ipython3",
   "version": "3.7.3"
  }
 },
 "nbformat": 4,
 "nbformat_minor": 2
}
